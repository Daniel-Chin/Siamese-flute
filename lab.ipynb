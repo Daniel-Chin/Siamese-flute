{
 "cells": [
  {
   "cell_type": "code",
   "execution_count": null,
   "metadata": {},
   "outputs": [],
   "source": [
    "# This uses an earlier audio clip\n",
    "\n",
    "# FILE_MUS = 'test0.mp3'\n",
    "# FILE_CSV = 'test0.csv'\n",
    "\n",
    "# # adjust until good alignment\n",
    "# OFFSET = 848\n",
    "# STRETCH = -.00003\n",
    "# LEFT_TEST = 420, 620\n",
    "# RIGHT_TEST = 3850, 3950\n",
    "\n",
    "# TRIM_START = 400\n",
    "\n",
    "# SCATTER = [\n",
    "#     [580, 1300, 83, 'r'],\n",
    "#     [1550, 2200, 82, 'g'],\n",
    "#     [2200, 2800, 80, 'b'],\n",
    "#     [2800, 3450, 78, 'k'],\n",
    "# ]"
   ]
  },
  {
   "cell_type": "code",
   "execution_count": null,
   "metadata": {},
   "outputs": [],
   "source": [
    "FILE_MUS = 'test1.mp3'\n",
    "FILE_CSV = 'test1.csv'\n",
    "\n",
    "# adjust until good alignment\n",
    "OFFSET = -490\n",
    "STRETCH = -.00004\n",
    "LEFT_TEST = 50, 190\n",
    "RIGHT_TEST = 9300, 9600\n",
    "\n",
    "TRIM_START = 30\n",
    "\n",
    "SCATTER = [\n",
    "    [200, 1675, 72, '#9f1d3f', [368, 558, 726, 927, 1117, 1307, 1508], 'C'],\n",
    "    [1675, 2994, 74, '#eb6437', [1832, 2002, 2172, 2364, 2546, 2693, 2840], 'D'],\n",
    "    [2994, 4211, 76, '#e3c70e', [3169, 3361, 3497, 3656, 3792, 3962, 4064], 'E'],\n",
    "    [4211, 5463, 77, '#008a61', [4381, 4540, 4677, 4846, 5016, 5163, 5322], 'F'],\n",
    "    [6032, 7250, 79, '#77c1fe', [6166, 6323, 6446, 6602, 6758, 6937, 7071], 'G'],\n",
    "    [7250, 8423, 81, '#0062bf', [7443, 7580, 7714, 7845, 8003, 8137, 8282], 'A'],\n",
    "    [8423, 9518, 83, '#774fc2', [8888, 9268, 9332], 'B'],\n",
    "]\n",
    "LIGHT = {\n",
    "    '#9f1d3f': '#c46',\n",
    "    '#eb6437': '#f96',\n",
    "    '#e3c70e': '#ff3',\n",
    "    '#008a61': '#3b9',\n",
    "    '#77c1fe': '#aff',\n",
    "    '#0062bf': '#39e',\n",
    "    '#774fc2': '#a7f',\n",
    "}"
   ]
  },
  {
   "cell_type": "code",
   "execution_count": null,
   "metadata": {
    "scrolled": false
   },
   "outputs": [],
   "source": [
    "import numpy as np\n",
    "from numpy import pi\n",
    "import matplotlib\n",
    "from matplotlib import pyplot as plt\n",
    "import librosa\n",
    "from IPython.display import Audio\n",
    "import scipy\n",
    "import csv\n",
    "# from stats import regression\n",
    "from sklearn import linear_model"
   ]
  },
  {
   "cell_type": "code",
   "execution_count": null,
   "metadata": {
    "scrolled": false
   },
   "outputs": [],
   "source": [
    "PAGE_LEN = 2048\n",
    "\n",
    "HOP_LEN = PAGE_LEN // 4\n",
    "\n",
    "amp_c, pre_c, freq_c, *_ = plt.rcParams['axes.prop_cycle'].by_key()['color']"
   ]
  },
  {
   "cell_type": "code",
   "execution_count": null,
   "metadata": {},
   "outputs": [],
   "source": [
    "plt.rcParams.update({\n",
    "    \"text.usetex\": not plt.rcParams['text.usetex'],\n",
    "    \"font.family\": \"sans-serif\",\n",
    "    \"font.sans-serif\": [\"Helvetica\"],\n",
    "    'font.size': 16,\n",
    "    \"legend.framealpha\": 1, \n",
    "})\n",
    "print('TEX:', plt.rcParams['text.usetex'])"
   ]
  },
  {
   "cell_type": "markdown",
   "metadata": {},
   "source": [
    "Run the above ceel to toggle Latex debug mode!"
   ]
  },
  {
   "cell_type": "code",
   "execution_count": null,
   "metadata": {},
   "outputs": [],
   "source": [
    "def sino(freq, length):\n",
    "    return np.sin(np.arange(length) * freq * TWO_PI / SR)\n",
    "\n",
    "def play(data):\n",
    "    return Audio(np.concatenate([data, [1]]), rate = SR)\n",
    "\n",
    "def findPeaks(energy):\n",
    "    slope = np.sign(energy[1:] - energy[:-1])\n",
    "    extrema = slope[1:] - slope[:-1]\n",
    "    return np.argpartition(\n",
    "        (extrema == -2) * energy[1:-1], - N_HARMONICS,\n",
    "    )[- N_HARMONICS:] + 1\n",
    "\n",
    "def sft(signal, freq_bin):\n",
    "    # Slow Fourier Transform\n",
    "    return np.abs(np.sum(signal * np.exp(IMAGINARY_LADDER * freq_bin))) / PAGE_LEN\n",
    "\n",
    "def refineGuess(guess, signal):\n",
    "    def loss(x):\n",
    "        if x < 0:\n",
    "            return 0\n",
    "        return - sft(signal, x)\n",
    "    freq_bin, loss = blindDescend(loss, .01, .4, guess)\n",
    "    return freq_bin * SR / PAGE_LEN, - loss\n",
    "\n",
    "def widePlot(h = 3, w = 12):\n",
    "    plt.gcf().set_size_inches(w, h)\n",
    "\n",
    "    \n",
    "def spectro(signal, do_wide = True, trim = 130):\n",
    "    energy = np.abs(rfft(signal * HANN))\n",
    "    plt.plot(energy[:trim])\n",
    "    if do_wide:\n",
    "        widePlot()\n",
    "\n",
    "def concatSynth(synth, harmonics, n):\n",
    "    buffer = []\n",
    "    for i in range(n):\n",
    "        synth.eat(harmonics)\n",
    "        buffer.append(synth.mix())\n",
    "    return np.concatenate(buffer)\n",
    "\n",
    "def pitch2freq(pitch):\n",
    "    return np.exp((pitch + 36.37631656229591) * 0.0577622650466621)\n",
    "\n",
    "def freq2pitch(f):\n",
    "    return np.log(f + .001) * 17.312340490667562 - 36.37631656229591"
   ]
  },
  {
   "cell_type": "code",
   "execution_count": null,
   "metadata": {
    "scrolled": true
   },
   "outputs": [],
   "source": [
    "raw_0, SR = librosa.load(FILE_MUS)\n",
    "SR"
   ]
  },
  {
   "cell_type": "code",
   "execution_count": null,
   "metadata": {
    "scrolled": false
   },
   "outputs": [],
   "source": [
    "play(raw_0)"
   ]
  },
  {
   "cell_type": "code",
   "execution_count": null,
   "metadata": {
    "scrolled": true
   },
   "outputs": [],
   "source": [
    "# help(librosa.yin)\n",
    "f0s = librosa.yin(raw_0, 200, 2500, SR, PAGE_LEN)\n",
    "plt.plot(f0s)\n",
    "widePlot()"
   ]
  },
  {
   "cell_type": "code",
   "execution_count": null,
   "metadata": {
    "scrolled": false
   },
   "outputs": [],
   "source": [
    "def traceEnergy(signal):\n",
    "    i = 0\n",
    "    energy = []\n",
    "    while True:\n",
    "        page = signal[i*HOP_LEN : i*HOP_LEN + PAGE_LEN]\n",
    "        if page.size < PAGE_LEN:\n",
    "            break\n",
    "        energy.append(np.sum(scipy.signal.periodogram(page, SR)) / PAGE_LEN)\n",
    "        i += 1\n",
    "    return energy\n",
    "e = np.array(traceEnergy(raw_0))\n",
    "plt.plot(e)\n",
    "widePlot()"
   ]
  },
  {
   "cell_type": "code",
   "execution_count": null,
   "metadata": {
    "scrolled": false
   },
   "outputs": [],
   "source": [
    "ee = (e - 2758.94165039096) * 10000000\n",
    "plt.plot(ee)\n",
    "widePlot()"
   ]
  },
  {
   "cell_type": "code",
   "execution_count": null,
   "metadata": {
    "scrolled": false
   },
   "outputs": [],
   "source": [
    "def getP():\n",
    "    time = []\n",
    "    pressure = []\n",
    "    with open(FILE_CSV, 'r') as f:\n",
    "        last_t = -1\n",
    "        epoch = 0\n",
    "        for t, p in csv.reader(f):\n",
    "            t = int(t)\n",
    "            if t < last_t:\n",
    "                epoch += 1\n",
    "            last_t = t\n",
    "            time.append((t + 16384 * epoch) / 1000)\n",
    "            pressure.append(int(p))\n",
    "    return time, pressure\n",
    "t, p = getP()\n",
    "plt.plot(t, p)\n",
    "widePlot()"
   ]
  },
  {
   "cell_type": "code",
   "execution_count": null,
   "metadata": {
    "scrolled": false
   },
   "outputs": [],
   "source": [
    "def sampleP(time, pressure, t):\n",
    "    s = np.sign(time - t)\n",
    "    i = np.where(s[1:] - s[:-1])[0][0]\n",
    "    t4, t5, t6 = time[i], t, time[i+1]\n",
    "    return pressure[i] * (t6-t5) / (t6-t4) + pressure[i+1] * (t5-t4) / (t6-t4)\n",
    "\n",
    "def uniformP(time, pressure):\n",
    "    time = np.array(time)\n",
    "    t = 0\n",
    "    result = []\n",
    "    while True:\n",
    "#         print(t, end='\\r', flush = True)\n",
    "        t += HOP_LEN / SR + STRETCH\n",
    "        if t > time[-1]:\n",
    "            break\n",
    "        if t < time[0]:\n",
    "            continue\n",
    "        result.append(sampleP(time, pressure, t))\n",
    "#     print('Done                ')\n",
    "    return np.array(result)\n",
    "pp = uniformP(t, p)"
   ]
  },
  {
   "cell_type": "code",
   "execution_count": null,
   "metadata": {
    "scrolled": false
   },
   "outputs": [],
   "source": [
    "if OFFSET > 0:\n",
    "    eee = ee[OFFSET:]\n",
    "    ff = f0s[OFFSET:]\n",
    "    pp_ = pp\n",
    "else:\n",
    "    pp_ = pp[-OFFSET:]\n",
    "    eee = ee\n",
    "    ff = f0s"
   ]
  },
  {
   "cell_type": "code",
   "execution_count": null,
   "metadata": {
    "scrolled": true
   },
   "outputs": [],
   "source": [
    "st, en = LEFT_TEST\n",
    "x = np.arange(en - st) * HOP_LEN / SR\n",
    "plt.plot(x, eee[st:en] * 3, label='amplitude')\n",
    "plt.plot(x, pp_[st:en], label='pressure')\n",
    "widePlot()\n",
    "plt.xlabel('time (seconds)')\n",
    "plt.legend()\n",
    "\n",
    "plt.savefig('imgs/align_left.svg', bbox_inches='tight')"
   ]
  },
  {
   "cell_type": "code",
   "execution_count": null,
   "metadata": {
    "scrolled": true
   },
   "outputs": [],
   "source": [
    "st, en = RIGHT_TEST\n",
    "x = np.arange(en - st) * HOP_LEN / SR\n",
    "plt.plot(x, eee[st:en] * 3, label='amplitude')\n",
    "plt.plot(x, pp_[st:en], label='pressure')\n",
    "widePlot()\n",
    "plt.xlabel('time (seconds)')\n",
    "plt.legend()\n",
    "\n",
    "plt.savefig('imgs/align_right.svg', bbox_inches='tight')"
   ]
  },
  {
   "cell_type": "code",
   "execution_count": null,
   "metadata": {},
   "outputs": [],
   "source": [
    "plt.plot(eee[:1500])\n",
    "widePlot()"
   ]
  },
  {
   "cell_type": "code",
   "execution_count": null,
   "metadata": {
    "scrolled": false
   },
   "outputs": [],
   "source": [
    "eee = eee[:pp_.size]\n",
    "ff = ff[:pp_.size]\n",
    "eeee = eee[TRIM_START:]\n",
    "fff = ff[TRIM_START:]\n",
    "ppp = pp_[TRIM_START:]"
   ]
  },
  {
   "cell_type": "code",
   "execution_count": null,
   "metadata": {},
   "outputs": [],
   "source": [
    "ffff = []\n",
    "for x, y in zip(fff, ppp):\n",
    "    if y > 15:\n",
    "        ffff.append(x)\n",
    "    else:\n",
    "        ffff.append(0)\n",
    "ffff = np.array(ffff)\n",
    "plt.plot(ffff)\n",
    "widePlot()"
   ]
  },
  {
   "cell_type": "code",
   "execution_count": null,
   "metadata": {},
   "outputs": [],
   "source": [
    "SIZE = eeee.size"
   ]
  },
  {
   "cell_type": "code",
   "execution_count": null,
   "metadata": {
    "scrolled": false
   },
   "outputs": [],
   "source": [
    "x = np.arange(SIZE) / SR * HOP_LEN\n",
    "plt.plot(x, eeee * 18, label='amplitude')\n",
    "plt.plot(x, ppp * 8, label='pressure')\n",
    "plt.plot(x, ffff, label='frequency')\n",
    "widePlot(5, 50)\n",
    "plt.xlabel('time (seconds)')\n",
    "plt.legend()\n",
    "\n",
    "# plt.savefig('eyeball.pdf')\n",
    "eeee.size, ppp.size, ffff.size"
   ]
  },
  {
   "cell_type": "code",
   "execution_count": null,
   "metadata": {},
   "outputs": [],
   "source": [
    "def scatterBend(ax, p, f, start, end, pitch, c):\n",
    "    p = p[start:end]\n",
    "    f = f[start:end]\n",
    "    pb = freq2pitch(f) - pitch - .75\n",
    "    pp = []\n",
    "    pbpb = []\n",
    "    for x, y in zip(p, pb):\n",
    "        if x > 20:\n",
    "            pp.append(x)\n",
    "            pbpb.append(y)\n",
    "    scatter = ax.scatter(pp, pbpb, c=c, s=.5, marker='.')\n",
    "    ax.grid(which='major')\n",
    "    ax.set_ylim([-4,14])\n",
    "    return scatter\n"
   ]
  },
  {
   "cell_type": "code",
   "execution_count": null,
   "metadata": {},
   "outputs": [],
   "source": [
    "plt.plot(ffff)\n",
    "widePlot()\n"
   ]
  },
  {
   "cell_type": "code",
   "execution_count": null,
   "metadata": {},
   "outputs": [],
   "source": [
    "# octave hysterisis\n",
    "\n",
    "NOTE = 4\n",
    "NOTE_I = 1\n",
    "start, end, pitch, color, mids, symbol = SCATTER[NOTE]\n",
    "last_start = start\n",
    "ax = plt.axes()\n",
    "for i, x in enumerate(mids + [end]):\n",
    "    if NOTE_I < 0 or i in range(NOTE_I * 2, NOTE_I * 2 + 2):\n",
    "        if i % 2 == 0:\n",
    "            sc = scatterBend(ax, ppp, ffff, last_start, x, pitch, 'b')\n",
    "            sc.set_label('upward')\n",
    "        else:\n",
    "            sc = scatterBend(ax, ppp, ffff, last_start, x, pitch, 'r')\n",
    "            sc.set_label('downward')\n",
    "    last_start = x\n",
    "plt.xlabel('pressure (Pa)')\n",
    "plt.ylabel('pitch bend (semitones)')\n",
    "lgnd = plt.legend()\n",
    "for handle in lgnd.legendHandles:\n",
    "    handle.set_sizes([50])\n",
    "\n",
    "plt.savefig('imgs/hysteresis.svg', bbox_inches='tight')"
   ]
  },
  {
   "cell_type": "code",
   "execution_count": null,
   "metadata": {
    "scrolled": true
   },
   "outputs": [],
   "source": [
    "NOTE = 1\n",
    "NOTE_I = 2\n",
    "start, end, pitch, color, mids, symbol = SCATTER[NOTE]\n",
    "last_start = start\n",
    "for i, x in enumerate(mids + [end]):\n",
    "    if NOTE_I < 0 or i in range(NOTE_I * 2, NOTE_I * 2 + 2):\n",
    "        scatterBend(plt.gca(), ppp, ffff, last_start, x, pitch, 'b' if i % 2 == 0 else 'r')\n",
    "    last_start = x\n",
    "axes = plt.gca()\n",
    "axes.set_xlim([0,200])\n",
    "axes.set_ylim([-2,1.5])\n",
    "widePlot(4, 10)"
   ]
  },
  {
   "cell_type": "markdown",
   "metadata": {},
   "source": [
    "## filter (pressure, pitch) pairs with timing. \n",
    "So like, invalidate those close to the octave change. "
   ]
  },
  {
   "cell_type": "markdown",
   "metadata": {},
   "source": [
    "previously we used unsupervised learning to call two distribution domains. \n",
    "\n",
    "legacy code here"
   ]
  },
  {
   "cell_type": "code",
   "execution_count": null,
   "metadata": {},
   "outputs": [],
   "source": [
    "# from sklearn import cluster\n",
    "# from sklearn import mixture"
   ]
  },
  {
   "cell_type": "code",
   "execution_count": null,
   "metadata": {},
   "outputs": [],
   "source": [
    "# pitch, (X, Y) = regress_data[2]\n",
    "\n",
    "# # clustering = cluster.DBSCAN(eps=8e4, min_samples=10).fit([*zip(X, Y)])\n",
    "# # clustering = cluster.SpectralClustering(n_clusters=2).fit([*zip(X, Y)])\n",
    "# # clustering = cluster.AgglomerativeClustering(n_clusters=2).fit([*zip(X, Y)])\n",
    "# # clustering = cluster.OPTICS().fit([*zip(X, Y)])\n",
    "# # clustering = cluster.KMeans(n_clusters=2).fit([*zip(X, Y)])\n",
    "# # clustering = cluster.MeanShift().fit([*zip(X, Y)])\n",
    "# # clustering = cluster.Birch(n_clusters=2).fit([*zip(X, Y)])\n",
    "# # print(clustering.labels_)\n",
    "# # c = clustering.labels_\n",
    "\n",
    "# mix = mixture.GaussianMixture(n_components=2, warm_start=False).fit([*zip(X, Y)])\n",
    "# print('iter', mix.n_iter_, '. if > 100, raise max')\n",
    "# c = mix.predict([*zip(X, Y)])\n",
    "# print(mix.means_)\n",
    "\n",
    "# plt.scatter(X, Y, s=1, c=['brgk'[t] for t in c])\n",
    "# # plt.scatter(X, Y, s=1, c=['b' if t < 2 else 'r' for t in c])\n",
    "# # plt.scatter(X, Y, s=1, c=c)"
   ]
  },
  {
   "cell_type": "code",
   "execution_count": null,
   "metadata": {},
   "outputs": [],
   "source": [
    "x = np.arange(SIZE) / SR * HOP_LEN\n",
    "plt.plot(x[3690:3920], ffff[3690:3920], c=freq_c)\n",
    "plt.axvspan(86.9, 87.18, facecolor='r', alpha=0.3)\n",
    "span = plt.axvspan(88.53, 88.9, facecolor='r', alpha=0.3)\n",
    "plt.xlabel('time (seconds)')\n",
    "plt.ylabel('frequency (Hz)')\n",
    "plt.legend([span], ['not in equilibrium'])\n",
    "# for illustration\n",
    "plt.savefig('imgs/neq.svg', bbox_inches='tight')"
   ]
  },
  {
   "cell_type": "code",
   "execution_count": null,
   "metadata": {},
   "outputs": [],
   "source": [
    "# plt.plot(ffff[1700:1950])\n",
    "plt.plot(ffff[1850:1930])\n",
    "\n",
    "# so deadzone approx = 25 (pages)\n",
    "DEADZONE = 19"
   ]
  },
  {
   "cell_type": "code",
   "execution_count": null,
   "metadata": {
    "scrolled": true
   },
   "outputs": [],
   "source": [
    "is_domain = [True for _ in ffff]\n",
    "last_freq = [0, 0]\n",
    "for i, freq in enumerate(ffff):\n",
    "    two_before = last_freq.pop()\n",
    "    if two_before == 0:\n",
    "        is_domain[i] = False\n",
    "    else:\n",
    "        ratio = freq / two_before\n",
    "        if ratio > 1.7:\n",
    "            # jump up! \n",
    "            is_domain[i-1 : i+1] = [False] * 2\n",
    "            for j in range(i - 2, i - DEADZONE, -1):\n",
    "                if ffff[j] > freq * .9:\n",
    "                    break\n",
    "                is_domain[j] = False\n",
    "        if ratio < .6:\n",
    "            # jump down! \n",
    "            is_domain[i-1 : i+1] = [False] * 2\n",
    "            for j in range(i, i + DEADZONE, +1):\n",
    "                if ffff[j] > two_before * .9:\n",
    "                    break\n",
    "                is_domain[j] = False\n",
    "    last_freq.append(freq)\n",
    "\n",
    "# domain_p = ppp[is_domain]\n",
    "# domain_f = ffff[is_domain]\n",
    "\n",
    "fig, (ax0, ax1) = plt.subplots(2, 1, sharex=True)\n",
    "x = np.arange(SIZE) / SR * HOP_LEN\n",
    "ax0.plot(x, eeee * 18, label='amplitude')\n",
    "ax0.plot(x, ppp * 8, label='pressure')\n",
    "ax0.plot(x, ffff, label='frequency')\n",
    "ax0.legend()\n",
    "\n",
    "ax1.plot(x, ppp * 8, pre_c, label = 'pressure')\n",
    "ax1.plot(x, ffff, freq_c, label = 'frequency')\n",
    "last_start = None\n",
    "span = None\n",
    "def endRect(end):\n",
    "    global last_start, span\n",
    "    if last_start is not None:\n",
    "        span = ax1.axvspan(x[last_start], x[end], facecolor='r', alpha=0.3)\n",
    "        last_start = None\n",
    "for i, is_do in enumerate(is_domain):\n",
    "    if not is_do:\n",
    "        if last_start is None:\n",
    "            last_start = i\n",
    "    else:\n",
    "        endRect(i)\n",
    "endRect(i)\n",
    "ax1.legend([span], ['removed'])\n",
    "widePlot(10, 50)\n",
    "plt.xlabel('time (seconds)')\n",
    "\n",
    "plt.savefig('imgs/scroll.svg', bbox_inches='tight')"
   ]
  },
  {
   "cell_type": "markdown",
   "metadata": {},
   "source": [
    "The below cell hand-removes a particularly large dent. "
   ]
  },
  {
   "cell_type": "code",
   "execution_count": null,
   "metadata": {},
   "outputs": [],
   "source": [
    "plt.plot(range(7600, 7800), ffff[7600:7800])\n",
    "plt.axvspan(7700, 7752, facecolor='r', alpha=0.5)\n",
    "for i in range(7700, 7752):\n",
    "    is_domain[i] = False"
   ]
  },
  {
   "cell_type": "code",
   "execution_count": null,
   "metadata": {
    "scrolled": false
   },
   "outputs": [],
   "source": [
    "def scatterDomainBend(ax, p, f, start, end, pitch, c, do_bads = True):\n",
    "    _p = p[start:end]\n",
    "    f = f[start:end]\n",
    "    dom = is_domain[start:end]\n",
    "    _pb = freq2pitch(f) - pitch - .75\n",
    "\n",
    "    if do_bads:\n",
    "        p = _p[np.invert(dom)]\n",
    "        pb = _pb[np.invert(dom)]\n",
    "        pp = []\n",
    "        pbpb = []\n",
    "        for x, y in zip(p, pb):\n",
    "            if x > 20:\n",
    "                pp.append(x)\n",
    "                pbpb.append(y)\n",
    "        ax.scatter(pp, pbpb, c='k', s=.5, marker='.')\n",
    "\n",
    "    p = _p[dom]\n",
    "    pb = _pb[dom]\n",
    "    pp = []\n",
    "    pbpb = []\n",
    "    for x, y in zip(p, pb):\n",
    "        if x > 20:\n",
    "            pp.append(x)\n",
    "            pbpb.append(y)\n",
    "    sct = ax.scatter(pp, pbpb, c=c, s=.5, marker='.')\n",
    "    \n",
    "    ax.grid(which='major')\n",
    "    ax = plt.gca()\n",
    "    ax.set_ylim([-3,1])\n",
    "    return sct\n",
    "\n",
    "fig, axes = plt.subplots(2, 4, sharey = True, sharex = True)\n",
    "fig.delaxes(axes[0][-1])\n",
    "for ax, args in zip([*axes[0][:-1], *axes[1]], SCATTER):\n",
    "    sct = scatterDomainBend(ax, ppp, ffff, *args[:4])\n",
    "    lgnd = ax.legend([sct], [args[5]], loc='lower right')\n",
    "    for handle in lgnd.legendHandles:\n",
    "        handle.set_sizes([50])\n",
    "ax = fig.add_subplot(111, frameon=False)\n",
    "plt.tick_params(labelcolor='none', top=False, bottom=False, left=False, right=False)\n",
    "plt.grid(False)\n",
    "plt.xlabel('pressure (Pa)')\n",
    "plt.ylabel('pitchbend (semitones)')\n",
    "widePlot(6, 10)\n",
    "\n",
    "plt.savefig('imgs/clean_result.svg', bbox_inches='tight')"
   ]
  },
  {
   "cell_type": "code",
   "execution_count": null,
   "metadata": {},
   "outputs": [],
   "source": [
    "fig, (ax1, ax2) = plt.subplots(2, 1, sharex=True)\n",
    "fig.subplots_adjust(hspace=0.05)  # adjust space between axes\n",
    "for args in SCATTER:\n",
    "#     if args[3] == 'red':\n",
    "        scatter = scatterDomainBend(ax1, ppp, ffff, *args[:4], False)\n",
    "        scatter = scatterDomainBend(ax2, ppp, ffff, *args[:4], False)\n",
    "        scatter.set_label(args[5])\n",
    "ax1.set_ylim(8.5, 13)\n",
    "ax2.set_ylim(-3, 1.5)\n",
    "\n",
    "ax1.spines['bottom'].set_visible(False)\n",
    "ax2.spines['top'].set_visible(False)\n",
    "ax1.xaxis.tick_top()\n",
    "ax1.tick_params(labeltop=False)\n",
    "ax2.xaxis.tick_bottom()\n",
    "\n",
    "d = .5\n",
    "kwargs = dict(marker=[(-1, -d), (1, d)], markersize=12,\n",
    "              linestyle=\"none\", color='k', mec='k', mew=1, clip_on=False)\n",
    "ax1.plot([0, 1], [0, 0], transform=ax1.transAxes, **kwargs)\n",
    "ax2.plot([0, 1], [1, 1], transform=ax2.transAxes, **kwargs)\n",
    "\n",
    "widePlot(7, 10)\n",
    "plt.xlabel('pressure (Pa)')\n",
    "plt.ylabel('pitch bend (semitones)', position = (0, 1))\n",
    "lgnd = ax2.legend()\n",
    "for handle in lgnd.legendHandles:\n",
    "    handle.set_sizes([50])\n",
    "# axes = plt.gca()\n",
    "# axes.set_xlim([0,100])\n",
    "# axes.set_ylim([-3,1.5])\n",
    "\n",
    "plt.savefig('imgs/rainbow_scatter.svg', bbox_inches='tight')"
   ]
  },
  {
   "cell_type": "markdown",
   "metadata": {},
   "source": [
    "## regressions, parameter finding"
   ]
  },
  {
   "cell_type": "code",
   "execution_count": null,
   "metadata": {},
   "outputs": [],
   "source": [
    "def scatterBendFreq(p, f, start, end, pitch, c, octave_high = False):\n",
    "    if octave_high: \n",
    "        pitch += 12\n",
    "    p = p[start:end]\n",
    "    f = f[start:end]\n",
    "    dom = is_domain[start:end]\n",
    "    p = p[dom]\n",
    "    f = f[dom]\n",
    "    fb = (f - pitch2freq(pitch + .75))\n",
    "    fq = (f / pitch2freq(pitch + .75))\n",
    "    pb = freq2pitch(f) - (pitch + .75)\n",
    "    pp = []\n",
    "    fbfb = []\n",
    "    pbpb = []\n",
    "    fqfq = []\n",
    "    for x, y, z, u in zip(p, fb, pb, fq):\n",
    "        if octave_high:\n",
    "            if x < 20 or y < -500:\n",
    "                continue\n",
    "        else:\n",
    "            if x < 20 or abs(y) > 250 or x > 250:\n",
    "                continue\n",
    "        pp.append(np.log(x))\n",
    "        fbfb.append(y)\n",
    "#         pbpb.append(z)\n",
    "        pbpb.append(np.exp(z))\n",
    "        fqfq.append(u ** 10)\n",
    "#     plt.scatter(pp, fbfb, c=c, s=1, marker='.')\n",
    "#     plt.scatter(pp, pbpb, c=c, s=1, marker='.')\n",
    "    plt.scatter(pp, fqfq, c=c, s=1, marker='.')\n",
    "#     plt.grid(which='major')\n",
    "    return pp, fqfq\n",
    "\n",
    "scatterBendFreq_results = []\n",
    "for i, args in enumerate(SCATTER):\n",
    "#     if i >= 3:\n",
    "        scatterBendFreq_results.append([args[2], \n",
    "            scatterBendFreq(ppp, ffff, *args[:4])\n",
    "        ])\n",
    "widePlot(5, 8)\n",
    "# axes = plt.gca()\n",
    "# axes.set_xlim([0,3])\n",
    "# axes.set_xlim([0,250])\n",
    "# axes.set_ylim([-200,50])"
   ]
  },
  {
   "cell_type": "code",
   "execution_count": null,
   "metadata": {},
   "outputs": [],
   "source": [
    "scatterBendFreqHighOctave_results = []\n",
    "for i, args in enumerate(SCATTER):\n",
    "#     if i >= 3:\n",
    "        scatterBendFreqHighOctave_results.append([args[2] + 12, \n",
    "            scatterBendFreq(ppp, ffff, *args[:4], True)\n",
    "        ])\n",
    "widePlot(5, 8)\n",
    "# axes = plt.gca()\n",
    "# axes.set_xlim([0,3])\n",
    "# axes.set_xlim([0,7.5])\n",
    "# axes.set_ylim([0,1.2])"
   ]
  },
  {
   "cell_type": "code",
   "execution_count": null,
   "metadata": {},
   "outputs": [],
   "source": [
    "regress_data = scatterBendFreq_results + scatterBendFreqHighOctave_results\n",
    "assert len(regress_data) == 14   # in case the above scattering code was conditioned"
   ]
  },
  {
   "cell_type": "code",
   "execution_count": null,
   "metadata": {},
   "outputs": [],
   "source": [
    "reg_results = []\n",
    "\n",
    "# legacy\n",
    "# for pitch, (X, Y) in regress_data:\n",
    "#     reg_results.append([pitch, regression(X, Y)])\n",
    "\n",
    "for i, (pitch, (X, Y)) in enumerate(regress_data):\n",
    "#     if i in [0, 1, 2, 3, 4, 5, 6]:\n",
    "#         mix = mixture.GaussianMixture(n_components=2, warm_start=True).fit([*zip(X, Y)])\n",
    "#         label = mix.predict([*zip(X, Y)])\n",
    "#         if mix.means_[0][0] < mix.means_[1][0]:\n",
    "#             choose_label = 0\n",
    "#         else:\n",
    "#             choose_label = 1\n",
    "#         XX = [t for i, t in enumerate(X) if label[i] == choose_label]\n",
    "#         YY = [t for i, t in enumerate(Y) if label[i] == choose_label]\n",
    "#     else:\n",
    "#         XX = X\n",
    "#         YY = Y\n",
    "    XX = X\n",
    "    YY = Y\n",
    "    \n",
    "    lm = linear_model.LinearRegression()\n",
    "#     lm.fit_intercept = False\n",
    "    model = lm.fit([[t] for t in XX], [[t] for t in YY])\n",
    "    reg_results.append([pitch, model.coef_[0][0], model.intercept_[0]])\n",
    "reg_results"
   ]
  },
  {
   "cell_type": "code",
   "execution_count": null,
   "metadata": {
    "scrolled": true
   },
   "outputs": [],
   "source": [
    "fig, axes = plt.subplots(1, 3, sharey=True)\n",
    "for r, ax in zip([(0, 14), (0, 7), (7, 14)], axes):\n",
    "    ax.axhline(1, linewidth = .5, c='k')\n",
    "    for i in range(*r):\n",
    "        X, Y = regress_data[i][1]\n",
    "        c, _, symbol = SCATTER[i % 7][3:]\n",
    "\n",
    "        YY = [reg_results[i][1] * t + reg_results[i][2] for t in X]\n",
    "        ax.plot(X, YY, LIGHT[c], linewidth = .5, label=symbol)\n",
    "\n",
    "        ax.scatter(X, Y, s=.5, c=c)\n",
    "axes[0].set_title('Both octaves')\n",
    "axes[1].set_title('Lower octave')\n",
    "# axes[0].set_xlim([-.5e6, 0.2e8])\n",
    "# axes[0].set_ylim([-.05, 3])\n",
    "axes[2].set_title('Higher octave')\n",
    "# axes[1].set_xlim([-1.0e7, 4.0e8])\n",
    "# axes[1].set_ylim([-.1, 6])\n",
    "fig.subplots_adjust(wspace=.3)\n",
    "\n",
    "handles, labels = ax.get_legend_handles_labels()\n",
    "ax = fig.add_subplot(111, frameon=False)\n",
    "plt.tick_params(labelcolor='none', top=False, bottom=False, left=False, right=False)\n",
    "plt.grid(False)\n",
    "lgnd = fig.legend(handles, labels, loc=(.31,.09), prop={'size': 12})\n",
    "for handle in lgnd.legendHandles:\n",
    "    handle.set_linewidth(1)\n",
    "plt.xlabel('$ln($pressure$)$', labelpad=5)\n",
    "plt.ylabel('frequency quotient \\\\^{} $10$', labelpad=15)\n",
    "\n",
    "widePlot(4, 10)\n",
    "\n",
    "plt.savefig('imgs/bend_regress.svg', bbox_inches='tight')"
   ]
  },
  {
   "cell_type": "code",
   "execution_count": null,
   "metadata": {},
   "outputs": [],
   "source": [
    "mean_slope = np.mean([t[1] for t in reg_results])\n",
    "def fitIntercept():\n",
    "    results = []\n",
    "    for i in range(0, 14):\n",
    "        X, Y = regress_data[i][1]\n",
    "        results.append(np.mean(X) - (np.mean(Y) - 1) / mean_slope)\n",
    "    return results\n",
    "X = np.array([t[0] for t in reg_results])\n",
    "intercepts = fitIntercept()\n",
    "plt.scatter(X, intercepts)\n",
    "\n",
    "lm = linear_model.LinearRegression()\n",
    "model = lm.fit([[t[0]] for t in reg_results], [[t] for t in intercepts])\n",
    "pb_coef = model.coef_[0][0]\n",
    "pb_inter = model.intercept_[0]\n",
    "print(pb_coef, pb_inter)\n",
    "\n",
    "predicted_x_intercept = pb_inter + pb_coef * X\n",
    "\n",
    "plt.plot(X, predicted_x_intercept)\n",
    "\n",
    "plt.xlabel('pitch (MIDI)')\n",
    "plt.ylabel('$ln($pressure$)$ intercept')\n",
    "plt.xticks([\n",
    "    *np.array([60, 62, 64, 65, 67, 69, 71]) + 12, \n",
    "    *np.array([60, 62, 64, 65, 67, 69, 71]) + 24, \n",
    "])\n",
    "widePlot(3, 10)\n",
    "\n",
    "plt.savefig('imgs/interc_regress.svg', bbox_inches='tight')"
   ]
  },
  {
   "cell_type": "markdown",
   "metadata": {},
   "source": [
    "## next step: reverse back to rainbow and overlay"
   ]
  },
  {
   "cell_type": "code",
   "execution_count": null,
   "metadata": {},
   "outputs": [],
   "source": [
    "X = np.array(range(10, 350))\n",
    "log_X = np.log(X)\n",
    "ONE_PITCH = freq2pitch(1)\n",
    "\n",
    "for i, args in enumerate(SCATTER):\n",
    "    pitch = args[2]\n",
    "    c = args[3]\n",
    "    sym = args[5]\n",
    "    xi_l = predicted_x_intercept[i]\n",
    "    xi_h = predicted_x_intercept[i + 7]\n",
    "    \n",
    "    fq_l = ((log_X - xi_l) * mean_slope + 1) ** .1\n",
    "    fq_h = ((log_X - xi_h) * mean_slope + 1) ** .1\n",
    "    pb_l = [freq2pitch(t) - ONE_PITCH for t in fq_l]\n",
    "    pb_h = [freq2pitch(t) - ONE_PITCH for t in fq_h]\n",
    "    plt.plot(X, pb_l, c, linewidth = .5)\n",
    "    plt.plot(X, pb_h, c, linewidth = .5, label=sym)\n",
    "    \n",
    "    scatterDomainBend(plt, ppp, ffff, *args[:2], pitch, c, False)\n",
    "    scatterDomainBend(plt, ppp, ffff, *args[:2], pitch+12, c, False)\n",
    "widePlot(10, 9)\n",
    "axes = plt.gca()\n",
    "axes.set_xlim([10,320])\n",
    "axes.set_ylim([-3,.8])\n",
    "plt.xlabel('pressure (Pa)')\n",
    "plt.ylabel('pitch bend (semitones)')\n",
    "plt.legend()\n",
    "\n",
    "plt.savefig('imgs/rainbow_overlay.svg', bbox_inches='tight')"
   ]
  },
  {
   "cell_type": "markdown",
   "metadata": {},
   "source": [
    "## !!! only three free parameters! \n",
    "and one of them is \"10\""
   ]
  },
  {
   "cell_type": "markdown",
   "metadata": {},
   "source": [
    "## Failure: study amplitude"
   ]
  },
  {
   "cell_type": "code",
   "execution_count": null,
   "metadata": {
    "scrolled": false
   },
   "outputs": [],
   "source": [
    "# Legacy code\n",
    "\n",
    "# plt.plot(ffff[230:1300])\n",
    "# # plt.plot(ffff[1550:2200])\n",
    "# # plt.plot(ffff[2200:2800])\n",
    "# # plt.plot(ffff[2800:3450])\n",
    "# widePlot()\n",
    "\n",
    "# plt.plot(ffff[230:580])\n",
    "# plt.plot(ffff[580:960])\n",
    "\n",
    "# # scatterBend(ppp, ffff, 230, 580, 83, 'r')\n",
    "\n",
    "# scatterBend(ppp, ffff, 580, 1300, 83, 'r')\n",
    "# scatterBend(ppp, ffff, 1550, 2200, 82, 'g')\n",
    "# scatterBend(ppp, ffff, 2200, 2800, 80, 'b')\n",
    "# scatterBend(ppp, ffff, 2800, 3450, 78, 'k')\n",
    "# plt.grid(which='major')"
   ]
  },
  {
   "cell_type": "code",
   "execution_count": null,
   "metadata": {},
   "outputs": [],
   "source": [
    "def scatterVelo(p, e, start, end, _, c):\n",
    "    p = p[start:end]\n",
    "    e = e[start:end]\n",
    "    pp = []\n",
    "    ee = []\n",
    "    for x, y in zip(p, e):\n",
    "        if x > 20:\n",
    "#             if x < 100:\n",
    "                pp.append(x ** 1)\n",
    "                ee.append(y ** 1)\n",
    "    plt.scatter(pp, ee, c=c, s=.5, marker='.')\n",
    "\n",
    "for i, args in enumerate(SCATTER):\n",
    "    scatterVelo(ppp, eeee, *args[:4])\n",
    "#     if i == 6:\n",
    "#         scatterVelo(ppp, eeee, *args[:3], 'k')\n",
    "# widePlot(10, 10)\n",
    "widePlot()"
   ]
  },
  {
   "cell_type": "markdown",
   "metadata": {},
   "source": [
    "Total failure. "
   ]
  },
  {
   "cell_type": "markdown",
   "metadata": {},
   "source": [
    "## octave threshold"
   ]
  },
  {
   "cell_type": "code",
   "execution_count": null,
   "metadata": {},
   "outputs": [],
   "source": [
    "# Hand labeling from note-wise pressure-pitch scatter. \n",
    "OCTV_THRES = [\n",
    "    [60, [62,   64,   66,   66, ],  [51, 55, 57, 54]],\n",
    "    [62, [80,   101, 84,   79, ],  [83, 80, 82, 80]],\n",
    "    [64, [104, 97,   112, 101,], [75, 73, 74, 73]],\n",
    "    [65, [122, 99,   91,   95, ],  [79, 72, 79, 79]],\n",
    "    [67, [159, 141, 122, 126,], [149, 106, 99, 96]],\n",
    "    [69, [236,      216, 225,], [212,  186, 188]],\n",
    "    [71, [], [201]],\n",
    "]\n"
   ]
  },
  {
   "cell_type": "code",
   "execution_count": null,
   "metadata": {},
   "outputs": [],
   "source": [
    "def scatterOctave(s):\n",
    "    x_b = []\n",
    "    y_b = []\n",
    "    x_r = []\n",
    "    y_r = []\n",
    "    x = []\n",
    "    y = []\n",
    "    c = []\n",
    "    for pitch, ups, downs in OCTV_THRES:\n",
    "        for things, color in zip([ups, downs], ['b', 'r']):\n",
    "            for thing in things:\n",
    "                c.append(color)\n",
    "                x.append(pitch)\n",
    "                y.append(np.log(thing))\n",
    "                if color == 'b':\n",
    "                    x_b.append(pitch)\n",
    "                    y_b.append(np.log(thing))\n",
    "                else:\n",
    "                    x_r.append(pitch)\n",
    "                    y_r.append(np.log(thing))\n",
    "    plt.scatter(x_b, y_b, s=s, marker='o', facecolors='none', edgecolors='b', label = 'upward')\n",
    "    plt.scatter(x_r, y_r, s=s, marker='o', facecolors='none', edgecolors='r', label = 'downward')\n",
    "    return x, y, c\n",
    "\n",
    "# single line fit - ignores hysteresis\n",
    "\n",
    "x, y, c = scatterOctave(s=20)\n",
    "\n",
    "lm = linear_model.LinearRegression()\n",
    "model = lm.fit([[t] for t in x], [[t] for t in y])\n",
    "ot_coef = model.coef_[0][0]\n",
    "ot_inter = model.intercept_[0]\n",
    "print(ot_coef, ot_inter)\n",
    "y_hat = ot_inter + ot_coef * np.array(x)\n",
    "plt.plot(x, y_hat, c='k')\n",
    "plt.xlabel('pitch (MIDI)')\n",
    "plt.ylabel('$ln($pressure$)$')\n",
    "plt.legend()\n"
   ]
  },
  {
   "cell_type": "code",
   "execution_count": null,
   "metadata": {
    "scrolled": true
   },
   "outputs": [],
   "source": [
    "x, y, c = scatterOctave(s=20)\n",
    "\n",
    "lm = linear_model.LinearRegression()\n",
    "model = lm.fit([[t, 0 if tt == 'r' else 1] for t, tt in zip(x, c)], [[t] for t in y])\n",
    "ot_coef = model.coef_[0][0]\n",
    "ot_c_coef = model.coef_[0][1]\n",
    "ot_inter = model.intercept_[0]\n",
    "print(ot_coef, ot_c_coef, ot_inter)\n",
    "y_hat = ot_inter + ot_coef * np.array(x)\n",
    "plt.plot(x, y_hat, 'r')\n",
    "plt.plot(x, y_hat + ot_c_coef, 'b')\n",
    "\n",
    "plt.xlabel('pitch (MIDI)')\n",
    "plt.ylabel('$ln($pressure$)$')\n",
    "plt.xticks([60, 62, 64, 65, 67, 69, 71])\n",
    "plt.legend()\n",
    "\n",
    "plt.savefig('imgs/octave_thresholds.svg', bbox_inches='tight')"
   ]
  }
 ],
 "metadata": {
  "kernelspec": {
   "display_name": "Python 3",
   "language": "python",
   "name": "python3"
  },
  "language_info": {
   "codemirror_mode": {
    "name": "ipython",
    "version": 3
   },
   "file_extension": ".py",
   "mimetype": "text/x-python",
   "name": "python",
   "nbconvert_exporter": "python",
   "pygments_lexer": "ipython3",
   "version": "3.6.10"
  }
 },
 "nbformat": 4,
 "nbformat_minor": 2
}
